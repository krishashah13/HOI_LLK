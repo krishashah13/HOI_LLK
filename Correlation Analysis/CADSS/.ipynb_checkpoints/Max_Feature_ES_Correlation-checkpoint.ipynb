{
 "cells": [
  {
   "cell_type": "code",
   "execution_count": 2,
   "id": "b590ebff-bfcd-470b-bf43-13a410153d1d",
   "metadata": {},
   "outputs": [],
   "source": [
    "#Import necessary packages\n",
    "from scipy import signal\n",
    "import numpy as np\n",
    "import scipy as sp\n",
    "import os\n",
    "import pickle\n",
    "import pandas as pd"
   ]
  },
  {
   "cell_type": "code",
   "execution_count": 3,
   "id": "858c65ed-fb85-4b8c-9d06-e2d20707abdd",
   "metadata": {},
   "outputs": [],
   "source": [
    "max_features_ES_1H= pd.read_csv(\"/Users/krisha/Desktop/BCM/Analysis/HOI_implementation/HOI_LLK/Data/CADSS/max_feat_ES_1H.csv\")"
   ]
  },
  {
   "cell_type": "code",
   "execution_count": 4,
   "id": "9ad4b149-d83d-4d82-aaa7-86e56c6df1c8",
   "metadata": {},
   "outputs": [],
   "source": [
    "max_features_ES_24H= pd.read_csv(\"/Users/krisha/Desktop/BCM/Analysis/HOI_implementation/HOI_LLK/Data/CADSS/max_feat_ES_24H.csv\")"
   ]
  },
  {
   "cell_type": "code",
   "execution_count": 5,
   "id": "3af11bb6-0253-4e84-a816-aac89e00d1a2",
   "metadata": {},
   "outputs": [],
   "source": [
    "max_features_ES_Day7= pd.read_csv(\"/Users/krisha/Desktop/BCM/Analysis/HOI_implementation/HOI_LLK/Data/CADSS/max_feat_ES_Day7.csv\")"
   ]
  },
  {
   "cell_type": "code",
   "execution_count": 9,
   "id": "cb7003a4-f1cb-4cd2-b29b-e9ac1f338cb9",
   "metadata": {},
   "outputs": [],
   "source": [
    "#max_features_ES_1H = max_features_ES_1H.drop(max_features_ES_1H.columns[:2], axis=1)"
   ]
  },
  {
   "cell_type": "code",
   "execution_count": 6,
   "id": "d01ead86-d134-4f77-85f6-345193c026b5",
   "metadata": {},
   "outputs": [],
   "source": [
    "def calculate_max_correlations(df, timepoint):\n",
    "    '''\n",
    "    Calculate correlations between each column in the CSV with the 24H MADRS deltas and Day7 MADRS deltas. \n",
    "    Each column represents the feature corresponding to the maximum effect size for each measure whereas each row is a subject.\n",
    "    Correlations are calculated separately for each group (0 and 1).\n",
    "    '''\n",
    "    results = {}\n",
    "\n",
    "    # Split the DataFrame by group and calculate correlations for each group\n",
    "    for group, group_df in df.groupby('group'):\n",
    "        # Correlate CADSS 1H raw change from baseline with each column\n",
    "        for column in group_df.columns[4:]:\n",
    "            corr_value = group_df['CADSS_1H_rawchange'].corr(group_df[column])\n",
    "            results[f\"{column}_Day7_group{group}\"] = corr_value\n",
    "    return pd.Series(results)"
   ]
  },
  {
   "cell_type": "code",
   "execution_count": 7,
   "id": "f38b2839-66bd-4ec4-bea1-f29511a8b28a",
   "metadata": {},
   "outputs": [],
   "source": [
    "correlations_max_1H = calculate_max_correlations(max_features_ES_1H, '1H')"
   ]
  },
  {
   "cell_type": "code",
   "execution_count": 8,
   "id": "947c4405-c3a6-4cfb-b617-bc3d961498d6",
   "metadata": {},
   "outputs": [],
   "source": [
    "correlations_max_24H = calculate_max_correlations(max_features_ES_24H, '24H')"
   ]
  },
  {
   "cell_type": "code",
   "execution_count": 9,
   "id": "83a6d06b-4b10-4e72-8654-453358b7185c",
   "metadata": {},
   "outputs": [],
   "source": [
    "correlations_max_Day7 = calculate_max_correlations(max_features_ES_Day7, 'Day7')"
   ]
  },
  {
   "cell_type": "code",
   "execution_count": 10,
   "id": "5033bd77-0d39-4768-b500-b89c1be80c94",
   "metadata": {},
   "outputs": [],
   "source": [
    "correlations_max_1H.to_csv(\"Correlations CADSS 1H Max Feature 1H.csv\", header=True)"
   ]
  },
  {
   "cell_type": "code",
   "execution_count": 11,
   "id": "6a05646b-2e62-4769-ae17-ea9f5d0e2db1",
   "metadata": {},
   "outputs": [],
   "source": [
    "correlations_max_24H.to_csv(\"Correlations CADSS 1H Max Feature 24H.csv\", header=True)"
   ]
  },
  {
   "cell_type": "code",
   "execution_count": 12,
   "id": "5ee791dc-ae00-48a7-b426-77079464e77b",
   "metadata": {},
   "outputs": [],
   "source": [
    "correlations_max_Day7.to_csv(\"Correlations CADSS 1H Max Feature Day7.csv\", header=True)"
   ]
  }
 ],
 "metadata": {
  "kernelspec": {
   "display_name": "Python 3 (ipykernel)",
   "language": "python",
   "name": "python3"
  },
  "language_info": {
   "codemirror_mode": {
    "name": "ipython",
    "version": 3
   },
   "file_extension": ".py",
   "mimetype": "text/x-python",
   "name": "python",
   "nbconvert_exporter": "python",
   "pygments_lexer": "ipython3",
   "version": "3.12.4"
  }
 },
 "nbformat": 4,
 "nbformat_minor": 5
}
