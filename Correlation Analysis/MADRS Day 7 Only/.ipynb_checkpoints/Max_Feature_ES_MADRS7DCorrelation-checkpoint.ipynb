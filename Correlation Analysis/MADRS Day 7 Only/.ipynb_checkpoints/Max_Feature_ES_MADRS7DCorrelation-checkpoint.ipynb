{
 "cells": [
  {
   "cell_type": "code",
   "execution_count": 1,
   "id": "b590ebff-bfcd-470b-bf43-13a410153d1d",
   "metadata": {},
   "outputs": [],
   "source": [
    "#Import necessary packages\n",
    "from scipy import signal\n",
    "import numpy as np\n",
    "import scipy as sp\n",
    "import os\n",
    "import pickle\n",
    "import pandas as pd"
   ]
  },
  {
   "cell_type": "code",
   "execution_count": 2,
   "id": "858c65ed-fb85-4b8c-9d06-e2d20707abdd",
   "metadata": {},
   "outputs": [],
   "source": [
    "max_features_ES_1H= pd.read_csv(\"/Users/krisha/Desktop/BCM/Analysis/HOI_implementation/HOI_LLK/Data/MADRS/Day7 Only/max_feat_ES_1H.csv\")"
   ]
  },
  {
   "cell_type": "code",
   "execution_count": 3,
   "id": "9ad4b149-d83d-4d82-aaa7-86e56c6df1c8",
   "metadata": {},
   "outputs": [],
   "source": [
    "max_features_ES_24H= pd.read_csv(\"/Users/krisha/Desktop/BCM/Analysis/HOI_implementation/HOI_LLK/Data/MADRS/Day7 Only/max_feat_ES_24H.csv\")"
   ]
  },
  {
   "cell_type": "code",
   "execution_count": 4,
   "id": "3af11bb6-0253-4e84-a816-aac89e00d1a2",
   "metadata": {},
   "outputs": [],
   "source": [
    "max_features_ES_Day7= pd.read_csv(\"/Users/krisha/Desktop/BCM/Analysis/HOI_implementation/HOI_LLK/Data/MADRS/Day7 Only/max_feat_ES_Day7.csv\")"
   ]
  },
  {
   "cell_type": "code",
   "execution_count": 5,
   "id": "5a4910cc-4354-4074-b22b-0cacef5319d1",
   "metadata": {},
   "outputs": [],
   "source": [
    "#Clean the columns to only have O and S values\n",
    "# Remove columns that contain '_DTC' or '_TC'\n",
    "columns_to_remove = max_features_ES_1H.columns[max_features_ES_1H.columns.str.contains('_DTC|_TC')]\n",
    "max_features_ES_1H = max_features_ES_1H.drop(columns=columns_to_remove)\n",
    "columns_to_remove2 = max_features_ES_24H.columns[max_features_ES_24H.columns.str.contains('_DTC|_TC')]\n",
    "max_features_ES_24H = max_features_ES_24H.drop(columns=columns_to_remove2)\n",
    "columns_to_remove3 = max_features_ES_Day7.columns[max_features_ES_Day7.columns.str.contains('_DTC|_TC')]\n",
    "max_features_ES_Day7 = max_features_ES_Day7.drop(columns=columns_to_remove3)"
   ]
  },
  {
   "cell_type": "code",
   "execution_count": 9,
   "id": "cb7003a4-f1cb-4cd2-b29b-e9ac1f338cb9",
   "metadata": {},
   "outputs": [],
   "source": [
    "#max_features_ES_1H = max_features_ES_1H.drop(max_features_ES_1H.columns[:2], axis=1)"
   ]
  },
  {
   "cell_type": "code",
   "execution_count": 6,
   "id": "5c320b87-d6d1-4343-8c28-2291e0e12620",
   "metadata": {},
   "outputs": [
    {
     "name": "stdout",
     "output_type": "stream",
     "text": [
      "Index(['subject_id', 'group', '24H_MADRS_pchange', 'Day7_MADRS_pchange',\n",
      "       'Alpha_O', 'Alpha_S', 'Beta_O', 'Beta_S', 'Delta_O', 'Delta_S',\n",
      "       'Gamma_O', 'Gamma_S', 'Theta_O', 'Theta_S', 'Wholeband_O',\n",
      "       'Wholeband_S'],\n",
      "      dtype='object')\n"
     ]
    }
   ],
   "source": [
    "print(max_features_ES_24H.columns)"
   ]
  },
  {
   "cell_type": "code",
   "execution_count": 44,
   "id": "d01ead86-d134-4f77-85f6-345193c026b5",
   "metadata": {},
   "outputs": [],
   "source": [
    "def calculate_max_correlations(df, timepoint):\n",
    "    '''\n",
    "    Calculate correlations between each column in the CSV with the Day7 MADRS deltas. \n",
    "    Each column represents the feature corresponding to the maximum effect size for each measure whereas each row is a subject.\n",
    "    Correlations are calculated separately for each group (0 and 1).\n",
    "    '''\n",
    "    results = {}\n",
    "\n",
    "    # Split the DataFrame by group and calculate correlations for each group\n",
    "    for group, group_df in df.groupby('group'):\n",
    "        # As we are only working with Day 7 for each timepoint, correlate\n",
    "        for column in group_df.columns[4:]:\n",
    "            corr_value = group_df['Day7_MADRS_pchange'].corr(group_df[column])\n",
    "            results[f\"{column}_Day7_group{group}\"] = corr_value\n",
    "    \n",
    "    return pd.Series(results)"
   ]
  },
  {
   "cell_type": "code",
   "execution_count": 45,
   "id": "f38b2839-66bd-4ec4-bea1-f29511a8b28a",
   "metadata": {},
   "outputs": [],
   "source": [
    "correlations_max_1H = calculate_max_correlations(max_features_ES_1H, '1H')"
   ]
  },
  {
   "cell_type": "code",
   "execution_count": 46,
   "id": "0a50139e-85ca-4eb2-a807-d92b3486809d",
   "metadata": {},
   "outputs": [
    {
     "name": "stdout",
     "output_type": "stream",
     "text": [
      "Alpha_O_Day7_group0        0.297262\n",
      "Alpha_S_Day7_group0        0.349151\n",
      "Beta_O_Day7_group0        -0.120553\n",
      "Beta_S_Day7_group0         0.364132\n",
      "Delta_O_Day7_group0        0.179792\n",
      "Delta_S_Day7_group0        0.300094\n",
      "Gamma_O_Day7_group0        0.074104\n",
      "Gamma_S_Day7_group0        0.360277\n",
      "Theta_O_Day7_group0       -0.122910\n",
      "Theta_S_Day7_group0        0.366311\n",
      "Wholeband_O_Day7_group0    0.037314\n",
      "Wholeband_S_Day7_group0    0.398691\n",
      "Alpha_O_Day7_group1       -0.098878\n",
      "Alpha_S_Day7_group1        0.240107\n",
      "Beta_O_Day7_group1         0.119717\n",
      "Beta_S_Day7_group1         0.087965\n",
      "Delta_O_Day7_group1        0.016510\n",
      "Delta_S_Day7_group1        0.093944\n",
      "Gamma_O_Day7_group1        0.006939\n",
      "Gamma_S_Day7_group1        0.012578\n",
      "Theta_O_Day7_group1       -0.023111\n",
      "Theta_S_Day7_group1       -0.084637\n",
      "Wholeband_O_Day7_group1    0.190831\n",
      "Wholeband_S_Day7_group1    0.067142\n",
      "dtype: float64\n"
     ]
    }
   ],
   "source": [
    "print(correlations_max_1H)"
   ]
  },
  {
   "cell_type": "code",
   "execution_count": 47,
   "id": "947c4405-c3a6-4cfb-b617-bc3d961498d6",
   "metadata": {},
   "outputs": [],
   "source": [
    "correlations_max_24H = calculate_max_correlations(max_features_ES_24H, '24H')"
   ]
  },
  {
   "cell_type": "code",
   "execution_count": 48,
   "id": "83a6d06b-4b10-4e72-8654-453358b7185c",
   "metadata": {},
   "outputs": [],
   "source": [
    "correlations_max_Day7 = calculate_max_correlations(max_features_ES_Day7, 'Day7')"
   ]
  },
  {
   "cell_type": "code",
   "execution_count": 49,
   "id": "5033bd77-0d39-4768-b500-b89c1be80c94",
   "metadata": {},
   "outputs": [],
   "source": [
    "correlations_max_1H.to_csv(\"Correlations Max Feature 7D MADRS 1H.csv\", header=True)"
   ]
  },
  {
   "cell_type": "code",
   "execution_count": 50,
   "id": "6a05646b-2e62-4769-ae17-ea9f5d0e2db1",
   "metadata": {},
   "outputs": [],
   "source": [
    "correlations_max_24H.to_csv(\"Correlations Max Feature 7D MADRS  24H.csv\", header=True)"
   ]
  },
  {
   "cell_type": "code",
   "execution_count": 51,
   "id": "5ee791dc-ae00-48a7-b426-77079464e77b",
   "metadata": {},
   "outputs": [],
   "source": [
    "correlations_max_Day7.to_csv(\"Correlations Max Feature 7D MADRS  Day7.csv\", header=True)"
   ]
  }
 ],
 "metadata": {
  "kernelspec": {
   "display_name": "Python 3 (ipykernel)",
   "language": "python",
   "name": "python3"
  },
  "language_info": {
   "codemirror_mode": {
    "name": "ipython",
    "version": 3
   },
   "file_extension": ".py",
   "mimetype": "text/x-python",
   "name": "python",
   "nbconvert_exporter": "python",
   "pygments_lexer": "ipython3",
   "version": "3.12.4"
  }
 },
 "nbformat": 4,
 "nbformat_minor": 5
}
