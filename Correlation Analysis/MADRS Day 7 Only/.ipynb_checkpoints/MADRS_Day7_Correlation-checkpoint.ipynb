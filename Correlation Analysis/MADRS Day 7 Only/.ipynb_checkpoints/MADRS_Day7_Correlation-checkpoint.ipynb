{
 "cells": [
  {
   "cell_type": "code",
   "execution_count": 1,
   "id": "985a2f9b-6759-440b-9844-60e4e4b3ac7d",
   "metadata": {},
   "outputs": [
    {
     "name": "stderr",
     "output_type": "stream",
     "text": [
      "/opt/anaconda3/lib/python3.12/site-packages/thoi/measures/gaussian_copula.py:3: TqdmExperimentalWarning: Using `tqdm.autonotebook.tqdm` in notebook mode. Use `tqdm.tqdm` instead to force console mode (e.g. in jupyter console)\n",
      "  from tqdm.autonotebook import tqdm\n"
     ]
    }
   ],
   "source": [
    "#Import necessary packages\n",
    "from scipy import signal\n",
    "import numpy as np\n",
    "import scipy as sp\n",
    "from scipy import io\n",
    "from thoi.measures.gaussian_copula import multi_order_measures\n",
    "import os\n",
    "import pickle\n",
    "import pandas as pd"
   ]
  },
  {
   "cell_type": "code",
   "execution_count": 2,
   "id": "e32fee4e-4801-46ec-9be0-df0e1e2023b1",
   "metadata": {},
   "outputs": [],
   "source": [
    "#Load pickle file path\n",
    "file_path_pkl = '/Users/krisha/Desktop/BCM/Analysis/HOI_implementation/HOI_LLK/Data/PKL files/processed_subject_dict_MOM.pkl' \n",
    "# Load analysis results using 'pickle.load'\n",
    "with open(file_path_pkl, 'rb') as file:\n",
    "    subject_dict_MOM = pickle.load(file)"
   ]
  },
  {
   "cell_type": "markdown",
   "id": "8efac843-5eb2-470f-ba64-9a201e275514",
   "metadata": {},
   "source": [
    "## Compute Deltas"
   ]
  },
  {
   "cell_type": "markdown",
   "id": "1d096367-88ea-4603-b534-a5bc84bd3083",
   "metadata": {},
   "source": [
    "#### Clean Data"
   ]
  },
  {
   "cell_type": "code",
   "execution_count": 3,
   "id": "2a0004a9-3d21-47c2-b9b3-75c941564871",
   "metadata": {},
   "outputs": [],
   "source": [
    "#RS_024 24H is an acquisition error that leads to inf values. Remove that key from the dictionary and treat it as missing data.\n",
    "del(subject_dict_MOM['RS_024']['24H'])"
   ]
  },
  {
   "cell_type": "code",
   "execution_count": 4,
   "id": "90fc9a31-7993-4d08-98cc-3c4bd91bb268",
   "metadata": {},
   "outputs": [],
   "source": [
    "#Keep the correlation analysis to O and S info. For frequency bands, keep it to Alpha, Beta, Gamma, Theta:\n",
    "keys_to_keep = {'o', 's'}\n",
    "filtered_subject_dict_MOM = {\n",
    "    subj: {time: {k: {key: val for key, val in values.items() if key in keys_to_keep}\n",
    "                  for k, values in time_data.items() if k in {'Alpha', 'Beta', 'Gamma', 'Theta'}}\n",
    "           for time, time_data in subj_data.items()}\n",
    "    for subj, subj_data in subject_dict_MOM.items()\n",
    "}"
   ]
  },
  {
   "cell_type": "code",
   "execution_count": 5,
   "id": "c7bab406-1962-4a7f-8dfb-255f63732173",
   "metadata": {},
   "outputs": [],
   "source": [
    "def compute_deltas(mega_dict):\n",
    "    \"\"\"\n",
    "    This function computes within-subject deltas between baseline and subsequent timepoints ('1H', '24H', 'Day7')\n",
    "    for the O and S information from the input `mega_dict`.\n",
    "\n",
    "    The input `mega_dict` is structured with:\n",
    "    - Subject IDs as keys.\n",
    "    - Values as dictionaries of timepoints ('Baseline', '1H', '24H', 'Day7'), where each timepoint holds\n",
    "      frequency band data (e.g., 'Alpha', 'Beta', 'Gamma', 'Theta') containing numerical values ('o', 's').\n",
    "\n",
    "    The function performs the following:\n",
    "    1. Initializes an empty `delta_dict` to store results.\n",
    "    2. Iterates over subjects, skipping those without baseline data.\n",
    "    3. For each subject, computes deltas between baseline and '1H', '24H', and 'Day7' for each frequency band.\n",
    "    4. Calculates deltas for numerical values and preserves other columns (if any).\n",
    "    5. If timepoint data is missing, fills deltas with `None`.\n",
    "    6. Returns `delta_dict` containing computed deltas for each subject.\n",
    "    \"\"\"\n",
    "\n",
    "    # Initialize a container to hold the deltas for each subject\n",
    "    delta_dict = {}\n",
    "\n",
    "    # Iterate through each subject in the mega dictionary\n",
    "    for subject_id, timepoints in mega_dict.items():\n",
    "        # Initialize a container for the current subject's deltas\n",
    "        subject_deltas = {}\n",
    "        \n",
    "        # Retrieve baseline values for all frequency bands\n",
    "        baseline_data = timepoints.get('Baseline', None)\n",
    "        \n",
    "        # If baseline is missing, skip this subject\n",
    "        if baseline_data is None:\n",
    "            continue\n",
    "        \n",
    "        # Define the delta timepoints to compare with baseline\n",
    "        delta_timepoints = ['1H', '24H', 'Day7']\n",
    "        \n",
    "        # Iterate through each timepoint (1H, 24H, Day7)\n",
    "        for tp in delta_timepoints:\n",
    "            # Get the data for the current timepoint, if available\n",
    "            tp_data = timepoints.get(tp, None)\n",
    "            \n",
    "            # Initialize a container for the current timepoint deltas\n",
    "            timepoint_deltas = {}\n",
    "\n",
    "            # Iterate through each frequency band (Alpha, Beta, etc.)\n",
    "            for freq_band, baseline_df in baseline_data.items():\n",
    "                # Prepare a dictionary to store deltas\n",
    "                freq_band_deltas = {}\n",
    "\n",
    "                # Get the dataframe for the current timepoint and frequency band, if available\n",
    "                tp_freq_df = tp_data.get(freq_band, None) if tp_data else None\n",
    "                \n",
    "                if tp_freq_df is not None:\n",
    "                    # Calculate deltas for 'o' and 's' row-wise\n",
    "                    for var in ['o', 's']:\n",
    "                        freq_band_deltas[f'{var}_deltas'] = tp_freq_df[var] - baseline_df[var]\n",
    "                else:\n",
    "                    # If data is missing for the current timepoint, populate deltas with None\n",
    "                    for var in ['o', 's']:\n",
    "                        freq_band_deltas[f'{var}_deltas'] = None\n",
    "\n",
    "                # Store the deltas for this frequency band\n",
    "                timepoint_deltas[f'{freq_band}_deltas'] = freq_band_deltas\n",
    "            \n",
    "            # Store the deltas for the current timepoint (1H, 24H, Day7)\n",
    "            subject_deltas[f'{tp}'] = timepoint_deltas\n",
    "\n",
    "        # Add the subject's deltas to the delta dictionary\n",
    "        delta_dict[f'{subject_id}_deltas'] = subject_deltas\n",
    "    \n",
    "    return delta_dict\n"
   ]
  },
  {
   "cell_type": "code",
   "execution_count": 6,
   "id": "17c0476e-d78a-4814-b000-eb77a914de16",
   "metadata": {},
   "outputs": [],
   "source": [
    "#Run the function:\n",
    "subject_MOM_deltas=compute_deltas(filtered_subject_dict_MOM)"
   ]
  },
  {
   "cell_type": "code",
   "execution_count": 7,
   "id": "d2e852af-e76c-415e-a92d-9a0da8eedae2",
   "metadata": {},
   "outputs": [
    {
     "name": "stdout",
     "output_type": "stream",
     "text": [
      "dict_keys(['Alpha_deltas', 'Beta_deltas', 'Gamma_deltas', 'Theta_deltas'])\n"
     ]
    }
   ],
   "source": [
    "#Check structure of the new dictionary\n",
    "#At this point, RS_024 24H is already buggy\n",
    "print(subject_MOM_deltas['RS_004_deltas']['24H'].keys())"
   ]
  },
  {
   "cell_type": "code",
   "execution_count": 8,
   "id": "91e37083-33c8-4772-84fe-93964b435771",
   "metadata": {},
   "outputs": [
    {
     "name": "stdout",
     "output_type": "stream",
     "text": [
      "32647\n"
     ]
    }
   ],
   "source": [
    "#Check delta row count\n",
    "print(subject_MOM_deltas['RS_004_deltas']['24H']['Alpha_deltas']['o_deltas'].shape[0])"
   ]
  },
  {
   "cell_type": "markdown",
   "id": "27ba5b87-37d5-47b9-b604-96f78543a33a",
   "metadata": {},
   "source": [
    "### Separate Data Into Ketamine and Midazolam Dictionaries"
   ]
  },
  {
   "cell_type": "code",
   "execution_count": 9,
   "id": "e95b8f3e-d4e5-4e59-b96a-d6dea55f986e",
   "metadata": {},
   "outputs": [],
   "source": [
    "#Create a list of subject_ids with the midazolam subjects\n",
    "midazolam_subjects=['RS_004_deltas', 'RS_007_deltas', 'RS_010_deltas', 'RS_016_deltas', 'RS_017_deltas', 'RS_019_deltas', 'RS_024_deltas', 'RS_025_deltas', 'RS_028_deltas', 'RS_029_deltas', 'RS_036_deltas', 'RS_041_deltas', 'RS_042_deltas'] "
   ]
  },
  {
   "cell_type": "code",
   "execution_count": 10,
   "id": "f161ae2c-8253-4561-ae6b-3941ef033912",
   "metadata": {},
   "outputs": [],
   "source": [
    "#Extract only the midazolam subjects from the mega dictionary into a separate dictionary\n",
    "midazolam_deltas_dict = {key: subject_MOM_deltas[key] for key in midazolam_subjects if key in subject_MOM_deltas}"
   ]
  },
  {
   "cell_type": "code",
   "execution_count": 11,
   "id": "918f5fe2-2c44-4979-a682-a9316835fa43",
   "metadata": {},
   "outputs": [],
   "source": [
    "#As there are only two conditions:\n",
    "#Extract the ketamine subjects from the mega dictionary into a separate dictionary by using \"not in\"\n",
    "ketamine_deltas_dict= {key: value for key, value in subject_MOM_deltas.items() if key not in midazolam_subjects}"
   ]
  },
  {
   "cell_type": "markdown",
   "id": "4cac98af-14da-451e-9c60-b316eced707e",
   "metadata": {},
   "source": [
    "### Compute Correlations"
   ]
  },
  {
   "cell_type": "code",
   "execution_count": 12,
   "id": "b634f90a-f30c-452b-9e24-de30ed1a4e21",
   "metadata": {},
   "outputs": [],
   "source": [
    "#Load Clinical Data for MADRS percentage changes\n",
    "MADRS_percent_deltas= pd.read_csv('MADRS_percentage_deltas.csv')"
   ]
  },
  {
   "cell_type": "code",
   "execution_count": 13,
   "id": "a829118f-c117-4e1d-9ac0-26baec3c3ef6",
   "metadata": {},
   "outputs": [],
   "source": [
    "#Set index for the MADRS data to be the subject ID in order to grab relevant data in the future\n",
    "MADRS_percent_deltas= MADRS_percent_deltas.set_index(\"subject_id\")"
   ]
  },
  {
   "cell_type": "code",
   "execution_count": 16,
   "id": "bf5482d4-7e06-4e68-8202-2c06705a3aef",
   "metadata": {},
   "outputs": [],
   "source": [
    "\n",
    "def extract_subject_madrs(subject_data, madrs_data):\n",
    "    '''\n",
    "    Extracts relevant subjects from the raw MADRS data based on group assignment (ketamine or midazolam).\n",
    "    Filters the data based on the group value in the subject dictionary.\n",
    "    '''\n",
    "    # Initialize an empty list to hold filtered data.\n",
    "    filtered_data_frame=[]\n",
    "    # Check the group of the first subject in `subject_data` (0 for ketamine, 1 for midazolam)\n",
    "    if madrs_data.loc[list(subject_data.keys())[0]]['group'] == 0:\n",
    "        # Filter data for midazolam group subjects\n",
    "        filtered_data_frame=madrs_data[madrs_data['group']==0]\n",
    "    else:\n",
    "        # Filter data for ketamine group subjects\n",
    "        filtered_data_frame=madrs_data[madrs_data['group']==1]\n",
    "    return filtered_data_frame\n",
    "\n",
    "\n",
    "#Extracts relevant MADRS columns based on timepoint \n",
    "def get_target_madrs_tp(madrs_data, timepoint):\n",
    "    '''\n",
    "    Extracts specific MADRS columns based on the subject's timepoint.\n",
    "    Returns MADRS columns for each timepoint (In this case, returns MADRS Day 7 for all timepoints).\n",
    "    '''\n",
    "    return madrs_data['Day7_MADRS_pchange']\n",
    "\n",
    "def get_measure_row_data(subject_data, timepoint, band, measure, row):\n",
    "    '''\n",
    "    Returns a row of data across all subjects for a specific timepoint, band, and measure.\n",
    "    `row` specifies the row number for the given band and measure.\n",
    "    '''\n",
    "    row_series = []\n",
    "    for subject_id in subject_data.keys():\n",
    "        # Check if data is available for the given timepoint, band, measure, and subject ID\n",
    "        if subject_data[subject_id][timepoint][band][measure] is None:\n",
    "            continue\n",
    "        else:\n",
    "            # Append the value at the specified row for the given band and measure\n",
    "            row_series.append(subject_data[subject_id][timepoint][band][measure][row])\n",
    "    return pd.Series(row_series)\n",
    "\n",
    "def correlate_x_y(measure_row_data, madrs_data):\n",
    "    '''\n",
    "    Calculates the Pearson correlation between a row of measure data and MADRS data.\n",
    "    Resets the index of `madrs_data` to align it with `measure_row_data`.\n",
    "    '''\n",
    "    madrs_data.reset_index(drop=True, inplace=True)\n",
    "    return madrs_data.corr(measure_row_data, method=\"pearson\")\n",
    "\n",
    "\n",
    "def create_band_measure_corr(subject_data, madrs_data, timepoint, band, measure, measure_size):\n",
    "    '''\n",
    "    Creates a series of correlations for each row of data within a specific timepoint, band, and measure.\n",
    "    Returns a series where each element is the correlation for a row of data.\n",
    "    '''\n",
    "    corr_series = []\n",
    "    for row in range(measure_size):\n",
    "        # Get data for the specified row across all subjects\n",
    "        row_data_temp=get_measure_row_data(subject_data, timepoint, band, measure, row)\n",
    "        # Calculate the correlation for this row and append to the results list\n",
    "        corr_series.append(correlate_x_y(row_data_temp, madrs_data)) \n",
    "    return pd.Series(corr_series) # Return the list of correlation results as a Pandas Series"
   ]
  },
  {
   "cell_type": "code",
   "execution_count": 19,
   "id": "2ce916c7-e019-404d-8ba8-58a6d51978ba",
   "metadata": {},
   "outputs": [],
   "source": [
    "def compute_subject_correlations_df(subject_data, madrs_data_raw, timepoint):\n",
    "    '''\n",
    "    Function to compute subject correlations for a specific subject timepoint and return them as a DataFrame\n",
    "    '''\n",
    "    # Extract relevant clinical data for the subject dictionary in the parameter (ketamine or midazolam)\n",
    "    # from the raw MADRS data\n",
    "    madrs_data_km = extract_subject_madrs(subject_data, madrs_data_raw)\n",
    "    # Extract target MADRS columns based on the specified subject timepoint\n",
    "    madrs_data = get_target_madrs_tp(madrs_data_km, timepoint)\n",
    "\n",
    "    # Initialize an empty DataFrame with MEASURE_SIZE rows (32,647 rows)\n",
    "    MEASURE_SIZE = 32647 \n",
    "    correlations_df = pd.DataFrame(index=range(MEASURE_SIZE))\n",
    "    \n",
    "    # Create a list of the bands and measures to loop through\n",
    "    bands = ['Alpha_deltas', 'Beta_deltas', 'Gamma_deltas', 'Theta_deltas']\n",
    "    measures = ['o_deltas', 's_deltas']\n",
    "    #timepoint_names = [\"7DAYMADRS\"]\n",
    "\n",
    "    # Loop through each band for correlation calculations\n",
    "    for band in bands:\n",
    "\n",
    "        # Loop through each measure for correlation calculations\n",
    "        for measure in measures:\n",
    "\n",
    "            # Clean up the band and measure names for use in column names\n",
    "            band_name = band.replace(\"_deltas\", \"\")\n",
    "            measure_name = measure.replace(\"_deltas\", \"\")\n",
    "\n",
    "            result = create_band_measure_corr(subject_data, madrs_data, timepoint, band, measure, MEASURE_SIZE)\n",
    "            # Validate result size to match MEASURE_SIZE\n",
    "            if len(result) != MEASURE_SIZE:\n",
    "                raise ValueError(f\"Result size {len(result)} does not match MEASURE_SIZE {MEASURE_SIZE} for band: {band}, measure: {measure}\")\n",
    "            # Assign the correlation results to the DataFrame    \n",
    "            col_name = f\"{band_name}_{measure_name}_7DAYMADRS_corr\"\n",
    "            correlations_df[col_name] = result\n",
    "    \n",
    "    return correlations_df # Return the complete DataFrame of correlations"
   ]
  },
  {
   "cell_type": "code",
   "execution_count": 20,
   "id": "ea357e5f-832a-4e8b-9319-e449fa93a7b7",
   "metadata": {},
   "outputs": [],
   "source": [
    "#Run the correlations function for all the timepoints for both dictionaries\n",
    "ket_7Dcorrelations_1H= compute_subject_correlations_df(ketamine_deltas_dict, MADRS_percent_deltas, '1H')\n",
    "ket_7Dcorrelations_24H= compute_subject_correlations_df(ketamine_deltas_dict, MADRS_percent_deltas, '24H')\n",
    "ket_7Dcorrelations_Day7= compute_subject_correlations_df(ketamine_deltas_dict, MADRS_percent_deltas, 'Day7')\n",
    "\n",
    "#Run the correlations function for all the timepoints for both dictionaries\n",
    "mid_7Dcorrelations_1H= compute_subject_correlations_df(midazolam_deltas_dict, MADRS_percent_deltas, '1H')\n",
    "mid_7Dcorrelations_24H= compute_subject_correlations_df(midazolam_deltas_dict, MADRS_percent_deltas, '24H')\n",
    "mid_7Dcorrelations_Day7= compute_subject_correlations_df(midazolam_deltas_dict, MADRS_percent_deltas, 'Day7')\n"
   ]
  },
  {
   "cell_type": "code",
   "execution_count": 21,
   "id": "49a91061-babf-40cb-9e85-082f2e20f659",
   "metadata": {},
   "outputs": [],
   "source": [
    "#Obtain R squared for all the dataframes\n",
    "\n",
    "ket_rsquared_1H= ket_7Dcorrelations_1H.pow(2)\n",
    "ket_rsquared_24H= ket_7Dcorrelations_24H.pow(2)\n",
    "ket_rsquared_Day7= ket_7Dcorrelations_Day7.pow(2)\n",
    "mid_rsquared_1H= mid_7Dcorrelations_1H.pow(2)\n",
    "mid_rsquared_24H= mid_7Dcorrelations_24H.pow(2)\n",
    "mid_rsquared_Day7= mid_7Dcorrelations_Day7.pow(2)"
   ]
  },
  {
   "cell_type": "code",
   "execution_count": 22,
   "id": "8ad01f11-b98f-4c7b-bdc1-67b2c20d7b54",
   "metadata": {},
   "outputs": [],
   "source": [
    "# Define a function to get the max index and value for each column\n",
    "def get_max_info(df):\n",
    "    max_indices = df.idxmax()\n",
    "    max_values = df.max()\n",
    "    result= pd.DataFrame({'Max_Index': max_indices, 'Max_Value': max_values})\n",
    "    return result\n",
    "# Apply the function to each DataFrame and store in a dictionary\n",
    "\n",
    "ketamine_7D_1H_maxind= get_max_info(ket_rsquared_1H)\n",
    "ketamine_7D_24H_maxind= get_max_info(ket_rsquared_24H)\n",
    "ketamine_7D_Day7_maxind= get_max_info(ket_rsquared_Day7)\n",
    "midazolam_7D_1H_maxind= get_max_info(mid_rsquared_1H)\n",
    "midazolam_7D_24H_maxind= get_max_info(mid_rsquared_24H)\n",
    "midazolam_7D_Day7_maxind= get_max_info(mid_rsquared_Day7)"
   ]
  },
  {
   "cell_type": "code",
   "execution_count": 24,
   "id": "daed91d1-60e4-42a0-a2c2-684f2e01d314",
   "metadata": {},
   "outputs": [
    {
     "data": {
      "text/plain": [
       "pandas.core.frame.DataFrame"
      ]
     },
     "execution_count": 24,
     "metadata": {},
     "output_type": "execute_result"
    }
   ],
   "source": [
    "type(ketamine_7D_1H_maxind)"
   ]
  },
  {
   "cell_type": "code",
   "execution_count": 26,
   "id": "a80718d9-bf81-4f84-9fb2-d67dadce662c",
   "metadata": {},
   "outputs": [],
   "source": [
    "#Export to CSV:\n",
    "\n",
    "#R squared\n",
    "\n",
    "ket_rsquared_1H.to_csv(\"Ketamine 1 Hour 7D MADRS R Squared.csv\")\n",
    "ket_rsquared_24H.to_csv(\"Ketamine 24 Hour 7D MADRS R Squared.csv\")\n",
    "ket_rsquared_Day7.to_csv(\"Ketamine Day 7 7D MADRS R Squared.csv\")\n",
    "mid_rsquared_1H.to_csv(\"Midazolam 1 Hour 7D MADRS R Squared.csv\")\n",
    "mid_rsquared_24H.to_csv(\"Midazolam 24 Hour 7D MADRS  R Squared.csv\")\n",
    "mid_rsquared_Day7.to_csv(\"Midazolam Day 7 7D MADRS R Squared.csv\")\n",
    "\n",
    "#Maximum Indices\n",
    "\n",
    "ketamine_7D_1H_maxind.to_csv(\"Ketamine 1 Hour 7D MADRS  Highest Correlations.csv\")\n",
    "ketamine_7D_24H_maxind.to_csv(\"Ketamine 24 Hour 7D MADRS Highest Correlations.csv\")\n",
    "ketamine_7D_Day7_maxind.to_csv(\"Ketamine Day 7 7D MADRS Highest Correlations.csv\")\n",
    "midazolam_7D_1H_maxind.to_csv(\"Midazolam 1 Hour 7D MADRS  Highest Correlations.csv\")\n",
    "midazolam_7D_24H_maxind.to_csv(\"Midazolam 24 Hour 7D MADRS  Highest Correlations.csv\")\n",
    "midazolam_7D_Day7_maxind.to_csv(\"Midazolam Day 7D MADRS 7 Highest Correlations.csv\")"
   ]
  },
  {
   "cell_type": "code",
   "execution_count": null,
   "id": "25300eee-704b-4517-acdf-9d9bce568d51",
   "metadata": {},
   "outputs": [],
   "source": [
    "'''\n",
    "Dictionary version\n",
    "\n",
    "def compute_subject_correlations(subject_data, madrs_data_raw, timepoint):\n",
    "    #Extract relevant clinical data for the subject dictionary in the parameter (ketamine or midazolam) from the raw MADRS data\n",
    "    madrs_data_km = extract_subject_madrs(subject_data, madrs_data_raw)\n",
    "    #Extract target MADRS columns, depending on the subject timepoint \n",
    "    madrs_data = get_target_madrs_tp(madrs_data_km, timepoint)\n",
    "\n",
    "    #Initialize a correlations dictionary\n",
    "    correlations={}\n",
    "    #Create a list of the bands and measures to loop through in your dictionary\n",
    "    bands = ['Alpha_deltas', 'Beta_deltas', 'Gamma_deltas', 'Theta_deltas']\n",
    "    measures = ['o_deltas', 's_deltas']\n",
    "    timepoint_names = [\"24HMADRS\", \"7DAYMADRS\"]\n",
    "    #Size of the HOI measure rows (change if the size changes \n",
    "    MEASURE_SIZE = 32647 \n",
    "    #\n",
    "    for band in bands:\n",
    "        for measure in measures:\n",
    "            if timepoint =='1H':\n",
    "                for madrs_tp_index in range(len(madrs_data)):                        \n",
    "                   result = create_band_measure_corr(subject_data, madrs_data[madrs_tp_index], timepoint, band, measure, MEASURE_SIZE) \n",
    "                   correlations.setdefault(band, {}).setdefault(measure, {})[f\"{band.replace(\"_deltas\", \"\")}_{measure.replace(\"_deltas\", \"\")}_{timepoint_names[madrs_tp_index]}_corr\"] = result\n",
    "            elif timepoint == '24H':\n",
    "                result = create_band_measure_corr(subject_data, madrs_data, timepoint, band, measure, MEASURE_SIZE)\n",
    "                correlations.setdefault(band, {}).setdefault(measure, {})[f\"{band.replace(\"_deltas\", \"\")}_{measure.replace(\"_deltas\", \"\")}_{timepoint_names[0]}_corr\"] = result\n",
    "            else:\n",
    "                result = create_band_measure_corr(subject_data, madrs_data, timepoint, band, measure, MEASURE_SIZE)\n",
    "                correlations.setdefault(band, {}).setdefault(measure, {})[f\"{band.replace(\"_deltas\", \"\")}_{measure.replace(\"_deltas\", \"\")}_{timepoint_names[1]}_corr\"] = result\n",
    "    \n",
    "    return correlations\n",
    "'''"
   ]
  }
 ],
 "metadata": {
  "kernelspec": {
   "display_name": "Python 3 (ipykernel)",
   "language": "python",
   "name": "python3"
  },
  "language_info": {
   "codemirror_mode": {
    "name": "ipython",
    "version": 3
   },
   "file_extension": ".py",
   "mimetype": "text/x-python",
   "name": "python",
   "nbconvert_exporter": "python",
   "pygments_lexer": "ipython3",
   "version": "3.12.4"
  }
 },
 "nbformat": 4,
 "nbformat_minor": 5
}
