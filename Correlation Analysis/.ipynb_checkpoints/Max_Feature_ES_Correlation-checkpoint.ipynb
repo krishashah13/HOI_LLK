{
 "cells": [
  {
   "cell_type": "code",
   "execution_count": 1,
   "id": "b590ebff-bfcd-470b-bf43-13a410153d1d",
   "metadata": {},
   "outputs": [],
   "source": [
    "#Import necessary packages\n",
    "from scipy import signal\n",
    "import numpy as np\n",
    "import scipy as sp\n",
    "import os\n",
    "import pickle\n",
    "import pandas as pd"
   ]
  },
  {
   "cell_type": "code",
   "execution_count": 27,
   "id": "858c65ed-fb85-4b8c-9d06-e2d20707abdd",
   "metadata": {},
   "outputs": [],
   "source": [
    "max_features_ES_1H= pd.read_csv(\"max_feat_ES_1H.csv\")"
   ]
  },
  {
   "cell_type": "code",
   "execution_count": 28,
   "id": "9ad4b149-d83d-4d82-aaa7-86e56c6df1c8",
   "metadata": {},
   "outputs": [],
   "source": [
    "max_features_ES_24H= pd.read_csv(\"max_feat_ES_24H.csv\")"
   ]
  },
  {
   "cell_type": "code",
   "execution_count": 29,
   "id": "3af11bb6-0253-4e84-a816-aac89e00d1a2",
   "metadata": {},
   "outputs": [],
   "source": [
    "max_features_ES_Day7= pd.read_csv(\"max_feat_ES_Day7.csv\")"
   ]
  },
  {
   "cell_type": "code",
   "execution_count": 9,
   "id": "cb7003a4-f1cb-4cd2-b29b-e9ac1f338cb9",
   "metadata": {},
   "outputs": [],
   "source": [
    "#max_features_ES_1H = max_features_ES_1H.drop(max_features_ES_1H.columns[:2], axis=1)"
   ]
  },
  {
   "cell_type": "code",
   "execution_count": 31,
   "id": "d01ead86-d134-4f77-85f6-345193c026b5",
   "metadata": {},
   "outputs": [],
   "source": [
    "def calculate_max_correlations(df, timepoint):\n",
    "    '''\n",
    "    Calculate correlations between each column in the CSV with the 24H MADRS deltas and Day7 MADRS deltas. \n",
    "    Each column represents the feature corresponding to the maximum effect size for each measure whereas each row is a subject.\n",
    "    Correlations are calculated separately for each group (0 and 1).\n",
    "    '''\n",
    "    results = {}\n",
    "\n",
    "    # Split the DataFrame by group and calculate correlations for each group\n",
    "    for group, group_df in df.groupby('group'):\n",
    "        # Determine which timepoint's MADRS percentage change to correlate with each column\n",
    "        if timepoint == '1H':\n",
    "            # Correlate 24H_MADRS_pchange with every column except Day7_MADRS_pchange\n",
    "            for column in group_df.columns[4:]:\n",
    "                corr_value = group_df['24H_MADRS_pchange'].corr(group_df[column])\n",
    "                results[f\"{column}_24H_group{group}\"] = corr_value\n",
    "            # Correlate Day7_MADRS_pchange with every column except 24H_MADRS_pchange\n",
    "            for column in group_df.columns[2:]:\n",
    "                corr_value = group_df['Day7_MADRS_pchange'].corr(group_df[column])\n",
    "                results[f\"{column}_Day7_group{group}\"] = corr_value\n",
    "        elif timepoint == '24H':\n",
    "            for column in group_df.columns[2:]:\n",
    "                corr_value = group_df['24H_MADRS_pchange'].corr(group_df[column])\n",
    "                results[f\"{column}_24H_group{group}\"] = corr_value\n",
    "        elif timepoint == 'Day7':\n",
    "            for column in group_df.columns[2:]:\n",
    "                corr_value = group_df['Day7_MADRS_pchange'].corr(group_df[column])\n",
    "                results[f\"{column}_Day7_group{group}\"] = corr_value\n",
    "        else:\n",
    "            print(\"Invalid Timepoint Entry\")\n",
    "            return pd.Series()\n",
    "    \n",
    "    return pd.Series(results)\n"
   ]
  },
  {
   "cell_type": "code",
   "execution_count": 32,
   "id": "f38b2839-66bd-4ec4-bea1-f29511a8b28a",
   "metadata": {},
   "outputs": [],
   "source": [
    "correlations_max_1H = calculate_max_correlations(max_features_ES_1H, '1H')"
   ]
  },
  {
   "cell_type": "code",
   "execution_count": 33,
   "id": "947c4405-c3a6-4cfb-b617-bc3d961498d6",
   "metadata": {},
   "outputs": [],
   "source": [
    "correlations_max_24H = calculate_max_correlations(max_features_ES_24H, '24H')"
   ]
  },
  {
   "cell_type": "code",
   "execution_count": 34,
   "id": "83a6d06b-4b10-4e72-8654-453358b7185c",
   "metadata": {},
   "outputs": [],
   "source": [
    "correlations_max_Day7 = calculate_max_correlations(max_features_ES_Day7, 'Day7')"
   ]
  },
  {
   "cell_type": "code",
   "execution_count": 35,
   "id": "5033bd77-0d39-4768-b500-b89c1be80c94",
   "metadata": {},
   "outputs": [],
   "source": [
    "correlations_max_1H.to_csv(\"Correlations Max Feature 1H.csv\", header=True)"
   ]
  },
  {
   "cell_type": "code",
   "execution_count": 36,
   "id": "6a05646b-2e62-4769-ae17-ea9f5d0e2db1",
   "metadata": {},
   "outputs": [],
   "source": [
    "correlations_max_24H.to_csv(\"Correlations Max Feature 24H.csv\", header=True)"
   ]
  },
  {
   "cell_type": "code",
   "execution_count": 37,
   "id": "5ee791dc-ae00-48a7-b426-77079464e77b",
   "metadata": {},
   "outputs": [],
   "source": [
    "correlations_max_Day7.to_csv(\"Correlations Max Feature Day7.csv\", header=True)"
   ]
  }
 ],
 "metadata": {
  "kernelspec": {
   "display_name": "Python 3 (ipykernel)",
   "language": "python",
   "name": "python3"
  },
  "language_info": {
   "codemirror_mode": {
    "name": "ipython",
    "version": 3
   },
   "file_extension": ".py",
   "mimetype": "text/x-python",
   "name": "python",
   "nbconvert_exporter": "python",
   "pygments_lexer": "ipython3",
   "version": "3.12.4"
  }
 },
 "nbformat": 4,
 "nbformat_minor": 5
}
